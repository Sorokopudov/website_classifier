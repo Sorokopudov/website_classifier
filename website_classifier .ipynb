{
 "cells": [
  {
   "cell_type": "code",
   "execution_count": 2,
   "metadata": {},
   "outputs": [],
   "source": [
    "import pandas as pd"
   ]
  },
  {
   "cell_type": "code",
   "execution_count": 38,
   "metadata": {},
   "outputs": [
    {
     "data": {
      "text/html": [
       "<div>\n",
       "<style scoped>\n",
       "    .dataframe tbody tr th:only-of-type {\n",
       "        vertical-align: middle;\n",
       "    }\n",
       "\n",
       "    .dataframe tbody tr th {\n",
       "        vertical-align: top;\n",
       "    }\n",
       "\n",
       "    .dataframe thead th {\n",
       "        text-align: right;\n",
       "    }\n",
       "</style>\n",
       "<table border=\"1\" class=\"dataframe\">\n",
       "  <thead>\n",
       "    <tr style=\"text-align: right;\">\n",
       "      <th></th>\n",
       "      <th>Unnamed: 0</th>\n",
       "      <th>url</th>\n",
       "      <th>words</th>\n",
       "      <th>url_fixed</th>\n",
       "      <th>category</th>\n",
       "      <th>translated</th>\n",
       "    </tr>\n",
       "  </thead>\n",
       "  <tbody>\n",
       "    <tr>\n",
       "      <th>0</th>\n",
       "      <td>0</td>\n",
       "      <td>http://foorzik.org</td>\n",
       "      <td>error error error error error error error erro...</td>\n",
       "      <td>foorzik.org</td>\n",
       "      <td>mp3</td>\n",
       "      <td>error error error error error error error erro...</td>\n",
       "    </tr>\n",
       "    <tr>\n",
       "      <th>1</th>\n",
       "      <td>2</td>\n",
       "      <td>http://mp3wale.net</td>\n",
       "      <td>#songs #songs #songs #songs #songs #songs #son...</td>\n",
       "      <td>mp3wale.net</td>\n",
       "      <td>mp3</td>\n",
       "      <td>#songs #songs #songs #songs #songs #songs #son...</td>\n",
       "    </tr>\n",
       "    <tr>\n",
       "      <th>2</th>\n",
       "      <td>3</td>\n",
       "      <td>http://mp3pirat.ru</td>\n",
       "      <td>#скачать #скачать #скачать #скачать #скачать #...</td>\n",
       "      <td>mp3pirat.ru</td>\n",
       "      <td>mp3</td>\n",
       "      <td>#download #download #download #download #downl...</td>\n",
       "    </tr>\n",
       "    <tr>\n",
       "      <th>3</th>\n",
       "      <td>4</td>\n",
       "      <td>http://ten28.com</td>\n",
       "      <td>2022 2022 2022 2022 2022 2022 2022 2022 2022 2...</td>\n",
       "      <td>ten28.com</td>\n",
       "      <td>mp3</td>\n",
       "      <td>2022 2022 2022 2022 2022 2022 2022 2022 2022 2...</td>\n",
       "    </tr>\n",
       "    <tr>\n",
       "      <th>4</th>\n",
       "      <td>5</td>\n",
       "      <td>http://stafabandra.net</td>\n",
       "      <td>#lagu #lagu #lagu #lagu #lagu #lagu #lagu #lag...</td>\n",
       "      <td>stafabandra.net</td>\n",
       "      <td>mp3</td>\n",
       "      <td>#song #song #song #song #song #song #song #son...</td>\n",
       "    </tr>\n",
       "    <tr>\n",
       "      <th>...</th>\n",
       "      <td>...</td>\n",
       "      <td>...</td>\n",
       "      <td>...</td>\n",
       "      <td>...</td>\n",
       "      <td>...</td>\n",
       "      <td>...</td>\n",
       "    </tr>\n",
       "    <tr>\n",
       "      <th>3646</th>\n",
       "      <td>5099</td>\n",
       "      <td>shared.sx</td>\n",
       "      <td>the the the the the the the #your #your #your ...</td>\n",
       "      <td>shared.sx</td>\n",
       "      <td>content_hosting</td>\n",
       "      <td>the the the the the the the #your #your #your ...</td>\n",
       "    </tr>\n",
       "    <tr>\n",
       "      <th>3647</th>\n",
       "      <td>5100</td>\n",
       "      <td>instafile.co</td>\n",
       "      <td>domain domain domain domain your your your www...</td>\n",
       "      <td>instafile.co</td>\n",
       "      <td>content_hosting</td>\n",
       "      <td>domain domain domain domain your your your www...</td>\n",
       "    </tr>\n",
       "    <tr>\n",
       "      <th>3648</th>\n",
       "      <td>5102</td>\n",
       "      <td>novelascoreanas.es</td>\n",
       "      <td>the the the the the the the #your #your #your ...</td>\n",
       "      <td>novelascoreanas.es</td>\n",
       "      <td>content_hosting</td>\n",
       "      <td>the the the the the the the #your #your #your ...</td>\n",
       "    </tr>\n",
       "    <tr>\n",
       "      <th>3649</th>\n",
       "      <td>5103</td>\n",
       "      <td>videoyoum7.com</td>\n",
       "      <td>the the the the the the the #cloudflare #cloud...</td>\n",
       "      <td>videoyoum7.com</td>\n",
       "      <td>content_hosting</td>\n",
       "      <td>the the the the the the the #cloudflare #cloud...</td>\n",
       "    </tr>\n",
       "    <tr>\n",
       "      <th>3650</th>\n",
       "      <td>5105</td>\n",
       "      <td>viralz.tv</td>\n",
       "      <td>the the the the the the the #cloudflare #cloud...</td>\n",
       "      <td>viralz.tv</td>\n",
       "      <td>content_hosting</td>\n",
       "      <td>the the the the the the the #cloudflare #cloud...</td>\n",
       "    </tr>\n",
       "  </tbody>\n",
       "</table>\n",
       "<p>3651 rows × 6 columns</p>\n",
       "</div>"
      ],
      "text/plain": [
       "      Unnamed: 0                     url  \\\n",
       "0              0      http://foorzik.org   \n",
       "1              2      http://mp3wale.net   \n",
       "2              3      http://mp3pirat.ru   \n",
       "3              4        http://ten28.com   \n",
       "4              5  http://stafabandra.net   \n",
       "...          ...                     ...   \n",
       "3646        5099               shared.sx   \n",
       "3647        5100            instafile.co   \n",
       "3648        5102      novelascoreanas.es   \n",
       "3649        5103          videoyoum7.com   \n",
       "3650        5105               viralz.tv   \n",
       "\n",
       "                                                  words           url_fixed  \\\n",
       "0     error error error error error error error erro...         foorzik.org   \n",
       "1     #songs #songs #songs #songs #songs #songs #son...         mp3wale.net   \n",
       "2     #скачать #скачать #скачать #скачать #скачать #...         mp3pirat.ru   \n",
       "3     2022 2022 2022 2022 2022 2022 2022 2022 2022 2...           ten28.com   \n",
       "4     #lagu #lagu #lagu #lagu #lagu #lagu #lagu #lag...     stafabandra.net   \n",
       "...                                                 ...                 ...   \n",
       "3646  the the the the the the the #your #your #your ...           shared.sx   \n",
       "3647  domain domain domain domain your your your www...        instafile.co   \n",
       "3648  the the the the the the the #your #your #your ...  novelascoreanas.es   \n",
       "3649  the the the the the the the #cloudflare #cloud...      videoyoum7.com   \n",
       "3650  the the the the the the the #cloudflare #cloud...           viralz.tv   \n",
       "\n",
       "             category                                         translated  \n",
       "0                 mp3  error error error error error error error erro...  \n",
       "1                 mp3  #songs #songs #songs #songs #songs #songs #son...  \n",
       "2                 mp3  #download #download #download #download #downl...  \n",
       "3                 mp3  2022 2022 2022 2022 2022 2022 2022 2022 2022 2...  \n",
       "4                 mp3  #song #song #song #song #song #song #song #son...  \n",
       "...               ...                                                ...  \n",
       "3646  content_hosting  the the the the the the the #your #your #your ...  \n",
       "3647  content_hosting  domain domain domain domain your your your www...  \n",
       "3648  content_hosting  the the the the the the the #your #your #your ...  \n",
       "3649  content_hosting  the the the the the the the #cloudflare #cloud...  \n",
       "3650  content_hosting  the the the the the the the #cloudflare #cloud...  \n",
       "\n",
       "[3651 rows x 6 columns]"
      ]
     },
     "execution_count": 38,
     "metadata": {},
     "output_type": "execute_result"
    }
   ],
   "source": [
    "data = pd.read_csv('df_www_2.csv.csv') \n",
    "data"
   ]
  },
  {
   "cell_type": "code",
   "execution_count": 4,
   "metadata": {
    "scrolled": true
   },
   "outputs": [
    {
     "data": {
      "text/plain": [
       "stream             1681\n",
       "mp3                1068\n",
       "content_hosting     902\n",
       "Name: category, dtype: int64"
      ]
     },
     "execution_count": 4,
     "metadata": {},
     "output_type": "execute_result"
    }
   ],
   "source": [
    "data.category.value_counts()"
   ]
  },
  {
   "cell_type": "markdown",
   "metadata": {},
   "source": [
    "## Предобработка "
   ]
  },
  {
   "cell_type": "code",
   "execution_count": 5,
   "metadata": {},
   "outputs": [],
   "source": [
    "import re\n",
    "from nltk.corpus import stopwords\n",
    "import stop_words"
   ]
  },
  {
   "cell_type": "code",
   "execution_count": 7,
   "metadata": {},
   "outputs": [],
   "source": [
    "english_stopwords  = stop_words.get_stop_words('english')\n",
    "english_stopwords.extend(['...', '«', '»', '#' ])"
   ]
  },
  {
   "cell_type": "code",
   "execution_count": 8,
   "metadata": {},
   "outputs": [],
   "source": [
    "import string\n",
    "def remove_punctuation(text):\n",
    "    return ''.join([ch if ch not in string.punctuation else ' ' for ch in text])\n",
    "def remove_numbers(text):\n",
    "    return ''.join([i if not i.isdigit() else ' ' for i in text])\n",
    "import re\n",
    "def remove_multiple_spaces(text):\n",
    "    return re.sub(r'\\s+', ' ', text, flags=re.I)"
   ]
  },
  {
   "cell_type": "code",
   "execution_count": 39,
   "metadata": {},
   "outputs": [],
   "source": [
    "prep_text = [remove_multiple_spaces(remove_numbers(remove_punctuation(translated.lower()))) for translated in data['translated'].astype('str')]"
   ]
  },
  {
   "cell_type": "code",
   "execution_count": 40,
   "metadata": {},
   "outputs": [
    {
     "data": {
      "text/html": [
       "<div>\n",
       "<style scoped>\n",
       "    .dataframe tbody tr th:only-of-type {\n",
       "        vertical-align: middle;\n",
       "    }\n",
       "\n",
       "    .dataframe tbody tr th {\n",
       "        vertical-align: top;\n",
       "    }\n",
       "\n",
       "    .dataframe thead th {\n",
       "        text-align: right;\n",
       "    }\n",
       "</style>\n",
       "<table border=\"1\" class=\"dataframe\">\n",
       "  <thead>\n",
       "    <tr style=\"text-align: right;\">\n",
       "      <th></th>\n",
       "      <th>Unnamed: 0</th>\n",
       "      <th>url</th>\n",
       "      <th>words</th>\n",
       "      <th>url_fixed</th>\n",
       "      <th>category</th>\n",
       "      <th>translated</th>\n",
       "      <th>text_prep</th>\n",
       "    </tr>\n",
       "  </thead>\n",
       "  <tbody>\n",
       "    <tr>\n",
       "      <th>0</th>\n",
       "      <td>0</td>\n",
       "      <td>http://foorzik.org</td>\n",
       "      <td>error error error error error error error erro...</td>\n",
       "      <td>foorzik.org</td>\n",
       "      <td>mp3</td>\n",
       "      <td>error error error error error error error erro...</td>\n",
       "      <td>error error error error error error error erro...</td>\n",
       "    </tr>\n",
       "    <tr>\n",
       "      <th>1</th>\n",
       "      <td>2</td>\n",
       "      <td>http://mp3wale.net</td>\n",
       "      <td>#songs #songs #songs #songs #songs #songs #son...</td>\n",
       "      <td>mp3wale.net</td>\n",
       "      <td>mp3</td>\n",
       "      <td>#songs #songs #songs #songs #songs #songs #son...</td>\n",
       "      <td>songs songs songs songs songs songs songs son...</td>\n",
       "    </tr>\n",
       "    <tr>\n",
       "      <th>2</th>\n",
       "      <td>3</td>\n",
       "      <td>http://mp3pirat.ru</td>\n",
       "      <td>#скачать #скачать #скачать #скачать #скачать #...</td>\n",
       "      <td>mp3pirat.ru</td>\n",
       "      <td>mp3</td>\n",
       "      <td>#download #download #download #download #downl...</td>\n",
       "      <td>download download download download download ...</td>\n",
       "    </tr>\n",
       "    <tr>\n",
       "      <th>3</th>\n",
       "      <td>4</td>\n",
       "      <td>http://ten28.com</td>\n",
       "      <td>2022 2022 2022 2022 2022 2022 2022 2022 2022 2...</td>\n",
       "      <td>ten28.com</td>\n",
       "      <td>mp3</td>\n",
       "      <td>2022 2022 2022 2022 2022 2022 2022 2022 2022 2...</td>\n",
       "      <td>rad rad rad rad rad rad rad rad rad rad rad r...</td>\n",
       "    </tr>\n",
       "    <tr>\n",
       "      <th>4</th>\n",
       "      <td>5</td>\n",
       "      <td>http://stafabandra.net</td>\n",
       "      <td>#lagu #lagu #lagu #lagu #lagu #lagu #lagu #lag...</td>\n",
       "      <td>stafabandra.net</td>\n",
       "      <td>mp3</td>\n",
       "      <td>#song #song #song #song #song #song #song #son...</td>\n",
       "      <td>song song song song song song song song song ...</td>\n",
       "    </tr>\n",
       "  </tbody>\n",
       "</table>\n",
       "</div>"
      ],
      "text/plain": [
       "   Unnamed: 0                     url  \\\n",
       "0           0      http://foorzik.org   \n",
       "1           2      http://mp3wale.net   \n",
       "2           3      http://mp3pirat.ru   \n",
       "3           4        http://ten28.com   \n",
       "4           5  http://stafabandra.net   \n",
       "\n",
       "                                               words        url_fixed  \\\n",
       "0  error error error error error error error erro...      foorzik.org   \n",
       "1  #songs #songs #songs #songs #songs #songs #son...      mp3wale.net   \n",
       "2  #скачать #скачать #скачать #скачать #скачать #...      mp3pirat.ru   \n",
       "3  2022 2022 2022 2022 2022 2022 2022 2022 2022 2...        ten28.com   \n",
       "4  #lagu #lagu #lagu #lagu #lagu #lagu #lagu #lag...  stafabandra.net   \n",
       "\n",
       "  category                                         translated  \\\n",
       "0      mp3  error error error error error error error erro...   \n",
       "1      mp3  #songs #songs #songs #songs #songs #songs #son...   \n",
       "2      mp3  #download #download #download #download #downl...   \n",
       "3      mp3  2022 2022 2022 2022 2022 2022 2022 2022 2022 2...   \n",
       "4      mp3  #song #song #song #song #song #song #song #son...   \n",
       "\n",
       "                                           text_prep  \n",
       "0  error error error error error error error erro...  \n",
       "1   songs songs songs songs songs songs songs son...  \n",
       "2   download download download download download ...  \n",
       "3   rad rad rad rad rad rad rad rad rad rad rad r...  \n",
       "4   song song song song song song song song song ...  "
      ]
     },
     "execution_count": 40,
     "metadata": {},
     "output_type": "execute_result"
    }
   ],
   "source": [
    "data['text_prep'] = prep_text\n",
    "data.head()"
   ]
  },
  {
   "cell_type": "code",
   "execution_count": 41,
   "metadata": {},
   "outputs": [
    {
     "data": {
      "text/html": [
       "<div>\n",
       "<style scoped>\n",
       "    .dataframe tbody tr th:only-of-type {\n",
       "        vertical-align: middle;\n",
       "    }\n",
       "\n",
       "    .dataframe tbody tr th {\n",
       "        vertical-align: top;\n",
       "    }\n",
       "\n",
       "    .dataframe thead th {\n",
       "        text-align: right;\n",
       "    }\n",
       "</style>\n",
       "<table border=\"1\" class=\"dataframe\">\n",
       "  <thead>\n",
       "    <tr style=\"text-align: right;\">\n",
       "      <th></th>\n",
       "      <th>Unnamed: 0</th>\n",
       "      <th>url</th>\n",
       "      <th>words</th>\n",
       "      <th>url_fixed</th>\n",
       "      <th>category</th>\n",
       "      <th>translated</th>\n",
       "      <th>text_prep</th>\n",
       "      <th>category_num</th>\n",
       "    </tr>\n",
       "  </thead>\n",
       "  <tbody>\n",
       "    <tr>\n",
       "      <th>0</th>\n",
       "      <td>0</td>\n",
       "      <td>http://foorzik.org</td>\n",
       "      <td>error error error error error error error erro...</td>\n",
       "      <td>foorzik.org</td>\n",
       "      <td>mp3</td>\n",
       "      <td>error error error error error error error erro...</td>\n",
       "      <td>error error error error error error error erro...</td>\n",
       "      <td>0</td>\n",
       "    </tr>\n",
       "    <tr>\n",
       "      <th>1</th>\n",
       "      <td>2</td>\n",
       "      <td>http://mp3wale.net</td>\n",
       "      <td>#songs #songs #songs #songs #songs #songs #son...</td>\n",
       "      <td>mp3wale.net</td>\n",
       "      <td>mp3</td>\n",
       "      <td>#songs #songs #songs #songs #songs #songs #son...</td>\n",
       "      <td>songs songs songs songs songs songs songs son...</td>\n",
       "      <td>0</td>\n",
       "    </tr>\n",
       "    <tr>\n",
       "      <th>2</th>\n",
       "      <td>3</td>\n",
       "      <td>http://mp3pirat.ru</td>\n",
       "      <td>#скачать #скачать #скачать #скачать #скачать #...</td>\n",
       "      <td>mp3pirat.ru</td>\n",
       "      <td>mp3</td>\n",
       "      <td>#download #download #download #download #downl...</td>\n",
       "      <td>download download download download download ...</td>\n",
       "      <td>0</td>\n",
       "    </tr>\n",
       "    <tr>\n",
       "      <th>3</th>\n",
       "      <td>4</td>\n",
       "      <td>http://ten28.com</td>\n",
       "      <td>2022 2022 2022 2022 2022 2022 2022 2022 2022 2...</td>\n",
       "      <td>ten28.com</td>\n",
       "      <td>mp3</td>\n",
       "      <td>2022 2022 2022 2022 2022 2022 2022 2022 2022 2...</td>\n",
       "      <td>rad rad rad rad rad rad rad rad rad rad rad r...</td>\n",
       "      <td>0</td>\n",
       "    </tr>\n",
       "    <tr>\n",
       "      <th>4</th>\n",
       "      <td>5</td>\n",
       "      <td>http://stafabandra.net</td>\n",
       "      <td>#lagu #lagu #lagu #lagu #lagu #lagu #lagu #lag...</td>\n",
       "      <td>stafabandra.net</td>\n",
       "      <td>mp3</td>\n",
       "      <td>#song #song #song #song #song #song #song #son...</td>\n",
       "      <td>song song song song song song song song song ...</td>\n",
       "      <td>0</td>\n",
       "    </tr>\n",
       "    <tr>\n",
       "      <th>...</th>\n",
       "      <td>...</td>\n",
       "      <td>...</td>\n",
       "      <td>...</td>\n",
       "      <td>...</td>\n",
       "      <td>...</td>\n",
       "      <td>...</td>\n",
       "      <td>...</td>\n",
       "      <td>...</td>\n",
       "    </tr>\n",
       "    <tr>\n",
       "      <th>3646</th>\n",
       "      <td>5099</td>\n",
       "      <td>shared.sx</td>\n",
       "      <td>the the the the the the the #your #your #your ...</td>\n",
       "      <td>shared.sx</td>\n",
       "      <td>content_hosting</td>\n",
       "      <td>the the the the the the the #your #your #your ...</td>\n",
       "      <td>the the the the the the the your your your you...</td>\n",
       "      <td>2</td>\n",
       "    </tr>\n",
       "    <tr>\n",
       "      <th>3647</th>\n",
       "      <td>5100</td>\n",
       "      <td>instafile.co</td>\n",
       "      <td>domain domain domain domain your your your www...</td>\n",
       "      <td>instafile.co</td>\n",
       "      <td>content_hosting</td>\n",
       "      <td>domain domain domain domain your your your www...</td>\n",
       "      <td>domain domain domain domain your your your www...</td>\n",
       "      <td>2</td>\n",
       "    </tr>\n",
       "    <tr>\n",
       "      <th>3648</th>\n",
       "      <td>5102</td>\n",
       "      <td>novelascoreanas.es</td>\n",
       "      <td>the the the the the the the #your #your #your ...</td>\n",
       "      <td>novelascoreanas.es</td>\n",
       "      <td>content_hosting</td>\n",
       "      <td>the the the the the the the #your #your #your ...</td>\n",
       "      <td>the the the the the the the your your your you...</td>\n",
       "      <td>2</td>\n",
       "    </tr>\n",
       "    <tr>\n",
       "      <th>3649</th>\n",
       "      <td>5103</td>\n",
       "      <td>videoyoum7.com</td>\n",
       "      <td>the the the the the the the #cloudflare #cloud...</td>\n",
       "      <td>videoyoum7.com</td>\n",
       "      <td>content_hosting</td>\n",
       "      <td>the the the the the the the #cloudflare #cloud...</td>\n",
       "      <td>the the the the the the the cloudflare cloudfl...</td>\n",
       "      <td>2</td>\n",
       "    </tr>\n",
       "    <tr>\n",
       "      <th>3650</th>\n",
       "      <td>5105</td>\n",
       "      <td>viralz.tv</td>\n",
       "      <td>the the the the the the the #cloudflare #cloud...</td>\n",
       "      <td>viralz.tv</td>\n",
       "      <td>content_hosting</td>\n",
       "      <td>the the the the the the the #cloudflare #cloud...</td>\n",
       "      <td>the the the the the the the cloudflare cloudfl...</td>\n",
       "      <td>2</td>\n",
       "    </tr>\n",
       "  </tbody>\n",
       "</table>\n",
       "<p>3651 rows × 8 columns</p>\n",
       "</div>"
      ],
      "text/plain": [
       "      Unnamed: 0                     url  \\\n",
       "0              0      http://foorzik.org   \n",
       "1              2      http://mp3wale.net   \n",
       "2              3      http://mp3pirat.ru   \n",
       "3              4        http://ten28.com   \n",
       "4              5  http://stafabandra.net   \n",
       "...          ...                     ...   \n",
       "3646        5099               shared.sx   \n",
       "3647        5100            instafile.co   \n",
       "3648        5102      novelascoreanas.es   \n",
       "3649        5103          videoyoum7.com   \n",
       "3650        5105               viralz.tv   \n",
       "\n",
       "                                                  words           url_fixed  \\\n",
       "0     error error error error error error error erro...         foorzik.org   \n",
       "1     #songs #songs #songs #songs #songs #songs #son...         mp3wale.net   \n",
       "2     #скачать #скачать #скачать #скачать #скачать #...         mp3pirat.ru   \n",
       "3     2022 2022 2022 2022 2022 2022 2022 2022 2022 2...           ten28.com   \n",
       "4     #lagu #lagu #lagu #lagu #lagu #lagu #lagu #lag...     stafabandra.net   \n",
       "...                                                 ...                 ...   \n",
       "3646  the the the the the the the #your #your #your ...           shared.sx   \n",
       "3647  domain domain domain domain your your your www...        instafile.co   \n",
       "3648  the the the the the the the #your #your #your ...  novelascoreanas.es   \n",
       "3649  the the the the the the the #cloudflare #cloud...      videoyoum7.com   \n",
       "3650  the the the the the the the #cloudflare #cloud...           viralz.tv   \n",
       "\n",
       "             category                                         translated  \\\n",
       "0                 mp3  error error error error error error error erro...   \n",
       "1                 mp3  #songs #songs #songs #songs #songs #songs #son...   \n",
       "2                 mp3  #download #download #download #download #downl...   \n",
       "3                 mp3  2022 2022 2022 2022 2022 2022 2022 2022 2022 2...   \n",
       "4                 mp3  #song #song #song #song #song #song #song #son...   \n",
       "...               ...                                                ...   \n",
       "3646  content_hosting  the the the the the the the #your #your #your ...   \n",
       "3647  content_hosting  domain domain domain domain your your your www...   \n",
       "3648  content_hosting  the the the the the the the #your #your #your ...   \n",
       "3649  content_hosting  the the the the the the the #cloudflare #cloud...   \n",
       "3650  content_hosting  the the the the the the the #cloudflare #cloud...   \n",
       "\n",
       "                                              text_prep  category_num  \n",
       "0     error error error error error error error erro...             0  \n",
       "1      songs songs songs songs songs songs songs son...             0  \n",
       "2      download download download download download ...             0  \n",
       "3      rad rad rad rad rad rad rad rad rad rad rad r...             0  \n",
       "4      song song song song song song song song song ...             0  \n",
       "...                                                 ...           ...  \n",
       "3646  the the the the the the the your your your you...             2  \n",
       "3647  domain domain domain domain your your your www...             2  \n",
       "3648  the the the the the the the your your your you...             2  \n",
       "3649  the the the the the the the cloudflare cloudfl...             2  \n",
       "3650  the the the the the the the cloudflare cloudfl...             2  \n",
       "\n",
       "[3651 rows x 8 columns]"
      ]
     },
     "execution_count": 41,
     "metadata": {},
     "output_type": "execute_result"
    }
   ],
   "source": [
    "def category_to_numeric(a):\n",
    "    if a == 'mp3':\n",
    "        return 0\n",
    "    if a == 'stream':\n",
    "        return 1\n",
    "    if a == 'content_hosting':\n",
    "        return 2\n",
    "\n",
    "\n",
    "data['category_num'] = data['category'].apply(category_to_numeric)\n",
    "data"
   ]
  },
  {
   "cell_type": "markdown",
   "metadata": {},
   "source": [
    "## Обучение моделей и оценка результатов"
   ]
  },
  {
   "cell_type": "markdown",
   "metadata": {},
   "source": [
    "https://habr.com/ru/post/584506/\n",
    "\n",
    "https://vc.ru/ml/139880-reshaem-nlp-zadachu-kak-klassificirovat-teksty-po-temam"
   ]
  },
  {
   "cell_type": "code",
   "execution_count": 42,
   "metadata": {},
   "outputs": [],
   "source": [
    "from sklearn.model_selection import train_test_split\n",
    "X = data ['text_prep']\n",
    "y = data ['category_num']\n",
    "X_train, X_test, y_train, y_test = train_test_split(X, y, random_state= 42, test_size=0.3)"
   ]
  },
  {
   "cell_type": "code",
   "execution_count": 16,
   "metadata": {},
   "outputs": [],
   "source": [
    "from sklearn.pipeline import Pipeline\n",
    "# pipeline позволяет объединить в один блок трансформер и модель, что упрощает написание кода и улучшает его читаемость\n",
    "from sklearn.feature_extraction.text import TfidfVectorizer\n",
    "# TfidfVectorizer преобразует тексты в числовые вектора, отражающие важность использования каждого слова из некоторого набора слов (количество слов набора определяет размерность вектора) в каждом тексте\n",
    "from sklearn.linear_model import SGDClassifier\n",
    "from sklearn.neighbors import KNeighborsClassifier\n",
    "# линейный классификатор и классификатор методом ближайших соседей\n",
    "from sklearn import metrics\n",
    "# набор метрик для оценки качества модели\n",
    "from sklearn.model_selection import GridSearchCV\n",
    "# модуль поиска по сетке параметров"
   ]
  },
  {
   "cell_type": "markdown",
   "metadata": {},
   "source": [
    "### Logistic Regression"
   ]
  },
  {
   "cell_type": "code",
   "execution_count": 55,
   "metadata": {},
   "outputs": [],
   "source": [
    "# Пока лучший результат\n",
    "\n",
    "logreg = Pipeline([\n",
    "                ('vect', CountVectorizer(analyzer='char', ngram_range =([2,10]))),\n",
    "                ('tfidf', TfidfTransformer()),\n",
    "                ('clf', LogisticRegression(n_jobs=3,C=1e5, solver='saga', \n",
    "                                           multi_class='multinomial',\n",
    "                                           max_iter=1000,\n",
    "                                           random_state=42)),\n",
    "])"
   ]
  },
  {
   "cell_type": "code",
   "execution_count": 56,
   "metadata": {},
   "outputs": [
    {
     "name": "stderr",
     "output_type": "stream",
     "text": [
      "C:\\Users\\S\\AppData\\Roaming\\Python\\Python38\\site-packages\\sklearn\\linear_model\\_sag.py:350: ConvergenceWarning: The max_iter was reached which means the coef_ did not converge\n",
      "  warnings.warn(\n"
     ]
    }
   ],
   "source": [
    "logreg.fit(X_train, y_train)\n",
    "logreg_y_pred = logreg.predict(X_test)"
   ]
  },
  {
   "cell_type": "code",
   "execution_count": 57,
   "metadata": {
    "scrolled": true
   },
   "outputs": [
    {
     "name": "stdout",
     "output_type": "stream",
     "text": [
      "              precision    recall  f1-score   support\n",
      "\n",
      "           0       0.93      0.94      0.93       344\n",
      "           1       0.93      0.95      0.94       485\n",
      "           2       0.90      0.87      0.88       267\n",
      "\n",
      "    accuracy                           0.92      1096\n",
      "   macro avg       0.92      0.92      0.92      1096\n",
      "weighted avg       0.92      0.92      0.92      1096\n",
      "\n"
     ]
    }
   ],
   "source": [
    "print(metrics.classification_report(logreg_y_pred, y_test))"
   ]
  },
  {
   "cell_type": "code",
   "execution_count": 58,
   "metadata": {},
   "outputs": [],
   "source": [
    "logreg_2 = Pipeline([\n",
    "                ('vect', CountVectorizer(analyzer='char', ngram_range =([2,10]))),\n",
    "                ('tfidf', TfidfTransformer()),\n",
    "                ('clf', LogisticRegression()),\n",
    "])\n",
    "\n",
    "logreg_2.fit(X_train, y_train)\n",
    "logreg_y_pred_2 = logreg_2.predict(X_test)"
   ]
  },
  {
   "cell_type": "code",
   "execution_count": 59,
   "metadata": {},
   "outputs": [
    {
     "name": "stdout",
     "output_type": "stream",
     "text": [
      "              precision    recall  f1-score   support\n",
      "\n",
      "           0       0.89      0.95      0.92       324\n",
      "           1       0.92      0.91      0.91       500\n",
      "           2       0.87      0.82      0.84       272\n",
      "\n",
      "    accuracy                           0.90      1096\n",
      "   macro avg       0.89      0.89      0.89      1096\n",
      "weighted avg       0.90      0.90      0.90      1096\n",
      "\n"
     ]
    }
   ],
   "source": [
    "print(metrics.classification_report(logreg_y_pred_2, y_test))"
   ]
  },
  {
   "cell_type": "code",
   "execution_count": 62,
   "metadata": {},
   "outputs": [
    {
     "name": "stdout",
     "output_type": "stream",
     "text": [
      "              precision    recall  f1-score   support\n",
      "\n",
      "           0       0.89      0.95      0.92       325\n",
      "           1       0.93      0.89      0.91       511\n",
      "           2       0.85      0.84      0.84       260\n",
      "\n",
      "    accuracy                           0.90      1096\n",
      "   macro avg       0.89      0.89      0.89      1096\n",
      "weighted avg       0.90      0.90      0.90      1096\n",
      "\n"
     ]
    }
   ],
   "source": [
    "logreg_3 = Pipeline([\n",
    "                ('tfidf', TfidfVectorizer()),\n",
    "                ('clf', LogisticRegression()),\n",
    "])\n",
    "\n",
    "logreg_3.fit(X_train, y_train)\n",
    "logreg_y_pred_3 = logreg_3.predict(X_test)\n",
    "\n",
    "print(metrics.classification_report(logreg_y_pred_3, y_test))"
   ]
  },
  {
   "cell_type": "code",
   "execution_count": 63,
   "metadata": {},
   "outputs": [
    {
     "name": "stderr",
     "output_type": "stream",
     "text": [
      "C:\\Users\\S\\AppData\\Roaming\\Python\\Python38\\site-packages\\sklearn\\linear_model\\_sag.py:350: ConvergenceWarning: The max_iter was reached which means the coef_ did not converge\n",
      "  warnings.warn(\n"
     ]
    },
    {
     "name": "stdout",
     "output_type": "stream",
     "text": [
      "              precision    recall  f1-score   support\n",
      "\n",
      "           0       0.89      0.92      0.91       336\n",
      "           1       0.93      0.94      0.94       492\n",
      "           2       0.86      0.82      0.84       268\n",
      "\n",
      "    accuracy                           0.90      1096\n",
      "   macro avg       0.90      0.89      0.89      1096\n",
      "weighted avg       0.90      0.90      0.90      1096\n",
      "\n"
     ]
    }
   ],
   "source": [
    "logreg_4 = Pipeline([\n",
    "                ('tfidf', TfidfVectorizer()),\n",
    "                ('clf', LogisticRegression(C=1e5, solver='saga', \n",
    "                                           multi_class='multinomial',random_state=41)),\n",
    "])\n",
    "\n",
    "logreg_4.fit(X_train, y_train)\n",
    "logreg_y_pred_4 = logreg_4.predict(X_test)\n",
    "\n",
    "print(metrics.classification_report(logreg_y_pred_4, y_test))"
   ]
  },
  {
   "cell_type": "markdown",
   "metadata": {},
   "source": [
    "### SGD"
   ]
  },
  {
   "cell_type": "code",
   "execution_count": 43,
   "metadata": {},
   "outputs": [
    {
     "data": {
      "text/html": [
       "<style>#sk-container-id-4 {color: black;background-color: white;}#sk-container-id-4 pre{padding: 0;}#sk-container-id-4 div.sk-toggleable {background-color: white;}#sk-container-id-4 label.sk-toggleable__label {cursor: pointer;display: block;width: 100%;margin-bottom: 0;padding: 0.3em;box-sizing: border-box;text-align: center;}#sk-container-id-4 label.sk-toggleable__label-arrow:before {content: \"▸\";float: left;margin-right: 0.25em;color: #696969;}#sk-container-id-4 label.sk-toggleable__label-arrow:hover:before {color: black;}#sk-container-id-4 div.sk-estimator:hover label.sk-toggleable__label-arrow:before {color: black;}#sk-container-id-4 div.sk-toggleable__content {max-height: 0;max-width: 0;overflow: hidden;text-align: left;background-color: #f0f8ff;}#sk-container-id-4 div.sk-toggleable__content pre {margin: 0.2em;color: black;border-radius: 0.25em;background-color: #f0f8ff;}#sk-container-id-4 input.sk-toggleable__control:checked~div.sk-toggleable__content {max-height: 200px;max-width: 100%;overflow: auto;}#sk-container-id-4 input.sk-toggleable__control:checked~label.sk-toggleable__label-arrow:before {content: \"▾\";}#sk-container-id-4 div.sk-estimator input.sk-toggleable__control:checked~label.sk-toggleable__label {background-color: #d4ebff;}#sk-container-id-4 div.sk-label input.sk-toggleable__control:checked~label.sk-toggleable__label {background-color: #d4ebff;}#sk-container-id-4 input.sk-hidden--visually {border: 0;clip: rect(1px 1px 1px 1px);clip: rect(1px, 1px, 1px, 1px);height: 1px;margin: -1px;overflow: hidden;padding: 0;position: absolute;width: 1px;}#sk-container-id-4 div.sk-estimator {font-family: monospace;background-color: #f0f8ff;border: 1px dotted black;border-radius: 0.25em;box-sizing: border-box;margin-bottom: 0.5em;}#sk-container-id-4 div.sk-estimator:hover {background-color: #d4ebff;}#sk-container-id-4 div.sk-parallel-item::after {content: \"\";width: 100%;border-bottom: 1px solid gray;flex-grow: 1;}#sk-container-id-4 div.sk-label:hover label.sk-toggleable__label {background-color: #d4ebff;}#sk-container-id-4 div.sk-serial::before {content: \"\";position: absolute;border-left: 1px solid gray;box-sizing: border-box;top: 0;bottom: 0;left: 50%;z-index: 0;}#sk-container-id-4 div.sk-serial {display: flex;flex-direction: column;align-items: center;background-color: white;padding-right: 0.2em;padding-left: 0.2em;position: relative;}#sk-container-id-4 div.sk-item {position: relative;z-index: 1;}#sk-container-id-4 div.sk-parallel {display: flex;align-items: stretch;justify-content: center;background-color: white;position: relative;}#sk-container-id-4 div.sk-item::before, #sk-container-id-4 div.sk-parallel-item::before {content: \"\";position: absolute;border-left: 1px solid gray;box-sizing: border-box;top: 0;bottom: 0;left: 50%;z-index: -1;}#sk-container-id-4 div.sk-parallel-item {display: flex;flex-direction: column;z-index: 1;position: relative;background-color: white;}#sk-container-id-4 div.sk-parallel-item:first-child::after {align-self: flex-end;width: 50%;}#sk-container-id-4 div.sk-parallel-item:last-child::after {align-self: flex-start;width: 50%;}#sk-container-id-4 div.sk-parallel-item:only-child::after {width: 0;}#sk-container-id-4 div.sk-dashed-wrapped {border: 1px dashed gray;margin: 0 0.4em 0.5em 0.4em;box-sizing: border-box;padding-bottom: 0.4em;background-color: white;}#sk-container-id-4 div.sk-label label {font-family: monospace;font-weight: bold;display: inline-block;line-height: 1.2em;}#sk-container-id-4 div.sk-label-container {text-align: center;}#sk-container-id-4 div.sk-container {/* jupyter's `normalize.less` sets `[hidden] { display: none; }` but bootstrap.min.css set `[hidden] { display: none !important; }` so we also need the `!important` here to be able to override the default hidden behavior on the sphinx rendered scikit-learn.org. See: https://github.com/scikit-learn/scikit-learn/issues/21755 */display: inline-block !important;position: relative;}#sk-container-id-4 div.sk-text-repr-fallback {display: none;}</style><div id=\"sk-container-id-4\" class=\"sk-top-container\"><div class=\"sk-text-repr-fallback\"><pre>Pipeline(steps=[(&#x27;tfidf&#x27;, TfidfVectorizer()),\n",
       "                (&#x27;sgd_clf&#x27;, SGDClassifier(random_state=42))])</pre><b>In a Jupyter environment, please rerun this cell to show the HTML representation or trust the notebook. <br />On GitHub, the HTML representation is unable to render, please try loading this page with nbviewer.org.</b></div><div class=\"sk-container\" hidden><div class=\"sk-item sk-dashed-wrapped\"><div class=\"sk-label-container\"><div class=\"sk-label sk-toggleable\"><input class=\"sk-toggleable__control sk-hidden--visually\" id=\"sk-estimator-id-10\" type=\"checkbox\" ><label for=\"sk-estimator-id-10\" class=\"sk-toggleable__label sk-toggleable__label-arrow\">Pipeline</label><div class=\"sk-toggleable__content\"><pre>Pipeline(steps=[(&#x27;tfidf&#x27;, TfidfVectorizer()),\n",
       "                (&#x27;sgd_clf&#x27;, SGDClassifier(random_state=42))])</pre></div></div></div><div class=\"sk-serial\"><div class=\"sk-item\"><div class=\"sk-estimator sk-toggleable\"><input class=\"sk-toggleable__control sk-hidden--visually\" id=\"sk-estimator-id-11\" type=\"checkbox\" ><label for=\"sk-estimator-id-11\" class=\"sk-toggleable__label sk-toggleable__label-arrow\">TfidfVectorizer</label><div class=\"sk-toggleable__content\"><pre>TfidfVectorizer()</pre></div></div></div><div class=\"sk-item\"><div class=\"sk-estimator sk-toggleable\"><input class=\"sk-toggleable__control sk-hidden--visually\" id=\"sk-estimator-id-12\" type=\"checkbox\" ><label for=\"sk-estimator-id-12\" class=\"sk-toggleable__label sk-toggleable__label-arrow\">SGDClassifier</label><div class=\"sk-toggleable__content\"><pre>SGDClassifier(random_state=42)</pre></div></div></div></div></div></div></div>"
      ],
      "text/plain": [
       "Pipeline(steps=[('tfidf', TfidfVectorizer()),\n",
       "                ('sgd_clf', SGDClassifier(random_state=42))])"
      ]
     },
     "execution_count": 43,
     "metadata": {},
     "output_type": "execute_result"
    }
   ],
   "source": [
    "sgd_ppl_clf = Pipeline([\n",
    "    ('tfidf', TfidfVectorizer()),\n",
    "    ('sgd_clf', SGDClassifier(random_state=42))])\n",
    "sgd_ppl_clf.fit(X_train, y_train)"
   ]
  },
  {
   "cell_type": "code",
   "execution_count": 46,
   "metadata": {
    "scrolled": true
   },
   "outputs": [
    {
     "name": "stdout",
     "output_type": "stream",
     "text": [
      "              precision    recall  f1-score   support\n",
      "\n",
      "           0       0.90      0.91      0.91       341\n",
      "           1       0.93      0.94      0.94       485\n",
      "           2       0.86      0.82      0.84       270\n",
      "\n",
      "    accuracy                           0.90      1096\n",
      "   macro avg       0.90      0.89      0.89      1096\n",
      "weighted avg       0.90      0.90      0.90      1096\n",
      "\n"
     ]
    }
   ],
   "source": [
    "predicted_sgd = sgd_ppl_clf.predict(X_test)\n",
    "print(metrics.classification_report(predicted_sgd, y_test))"
   ]
  },
  {
   "cell_type": "markdown",
   "metadata": {},
   "source": [
    "### KNN (KNeighborsClassifier)"
   ]
  },
  {
   "cell_type": "code",
   "execution_count": 64,
   "metadata": {},
   "outputs": [
    {
     "data": {
      "text/html": [
       "<style>#sk-container-id-8 {color: black;background-color: white;}#sk-container-id-8 pre{padding: 0;}#sk-container-id-8 div.sk-toggleable {background-color: white;}#sk-container-id-8 label.sk-toggleable__label {cursor: pointer;display: block;width: 100%;margin-bottom: 0;padding: 0.3em;box-sizing: border-box;text-align: center;}#sk-container-id-8 label.sk-toggleable__label-arrow:before {content: \"▸\";float: left;margin-right: 0.25em;color: #696969;}#sk-container-id-8 label.sk-toggleable__label-arrow:hover:before {color: black;}#sk-container-id-8 div.sk-estimator:hover label.sk-toggleable__label-arrow:before {color: black;}#sk-container-id-8 div.sk-toggleable__content {max-height: 0;max-width: 0;overflow: hidden;text-align: left;background-color: #f0f8ff;}#sk-container-id-8 div.sk-toggleable__content pre {margin: 0.2em;color: black;border-radius: 0.25em;background-color: #f0f8ff;}#sk-container-id-8 input.sk-toggleable__control:checked~div.sk-toggleable__content {max-height: 200px;max-width: 100%;overflow: auto;}#sk-container-id-8 input.sk-toggleable__control:checked~label.sk-toggleable__label-arrow:before {content: \"▾\";}#sk-container-id-8 div.sk-estimator input.sk-toggleable__control:checked~label.sk-toggleable__label {background-color: #d4ebff;}#sk-container-id-8 div.sk-label input.sk-toggleable__control:checked~label.sk-toggleable__label {background-color: #d4ebff;}#sk-container-id-8 input.sk-hidden--visually {border: 0;clip: rect(1px 1px 1px 1px);clip: rect(1px, 1px, 1px, 1px);height: 1px;margin: -1px;overflow: hidden;padding: 0;position: absolute;width: 1px;}#sk-container-id-8 div.sk-estimator {font-family: monospace;background-color: #f0f8ff;border: 1px dotted black;border-radius: 0.25em;box-sizing: border-box;margin-bottom: 0.5em;}#sk-container-id-8 div.sk-estimator:hover {background-color: #d4ebff;}#sk-container-id-8 div.sk-parallel-item::after {content: \"\";width: 100%;border-bottom: 1px solid gray;flex-grow: 1;}#sk-container-id-8 div.sk-label:hover label.sk-toggleable__label {background-color: #d4ebff;}#sk-container-id-8 div.sk-serial::before {content: \"\";position: absolute;border-left: 1px solid gray;box-sizing: border-box;top: 0;bottom: 0;left: 50%;z-index: 0;}#sk-container-id-8 div.sk-serial {display: flex;flex-direction: column;align-items: center;background-color: white;padding-right: 0.2em;padding-left: 0.2em;position: relative;}#sk-container-id-8 div.sk-item {position: relative;z-index: 1;}#sk-container-id-8 div.sk-parallel {display: flex;align-items: stretch;justify-content: center;background-color: white;position: relative;}#sk-container-id-8 div.sk-item::before, #sk-container-id-8 div.sk-parallel-item::before {content: \"\";position: absolute;border-left: 1px solid gray;box-sizing: border-box;top: 0;bottom: 0;left: 50%;z-index: -1;}#sk-container-id-8 div.sk-parallel-item {display: flex;flex-direction: column;z-index: 1;position: relative;background-color: white;}#sk-container-id-8 div.sk-parallel-item:first-child::after {align-self: flex-end;width: 50%;}#sk-container-id-8 div.sk-parallel-item:last-child::after {align-self: flex-start;width: 50%;}#sk-container-id-8 div.sk-parallel-item:only-child::after {width: 0;}#sk-container-id-8 div.sk-dashed-wrapped {border: 1px dashed gray;margin: 0 0.4em 0.5em 0.4em;box-sizing: border-box;padding-bottom: 0.4em;background-color: white;}#sk-container-id-8 div.sk-label label {font-family: monospace;font-weight: bold;display: inline-block;line-height: 1.2em;}#sk-container-id-8 div.sk-label-container {text-align: center;}#sk-container-id-8 div.sk-container {/* jupyter's `normalize.less` sets `[hidden] { display: none; }` but bootstrap.min.css set `[hidden] { display: none !important; }` so we also need the `!important` here to be able to override the default hidden behavior on the sphinx rendered scikit-learn.org. See: https://github.com/scikit-learn/scikit-learn/issues/21755 */display: inline-block !important;position: relative;}#sk-container-id-8 div.sk-text-repr-fallback {display: none;}</style><div id=\"sk-container-id-8\" class=\"sk-top-container\"><div class=\"sk-text-repr-fallback\"><pre>Pipeline(steps=[(&#x27;tfidf&#x27;, TfidfVectorizer()),\n",
       "                (&#x27;knb_clf&#x27;, KNeighborsClassifier(n_neighbors=10))])</pre><b>In a Jupyter environment, please rerun this cell to show the HTML representation or trust the notebook. <br />On GitHub, the HTML representation is unable to render, please try loading this page with nbviewer.org.</b></div><div class=\"sk-container\" hidden><div class=\"sk-item sk-dashed-wrapped\"><div class=\"sk-label-container\"><div class=\"sk-label sk-toggleable\"><input class=\"sk-toggleable__control sk-hidden--visually\" id=\"sk-estimator-id-22\" type=\"checkbox\" ><label for=\"sk-estimator-id-22\" class=\"sk-toggleable__label sk-toggleable__label-arrow\">Pipeline</label><div class=\"sk-toggleable__content\"><pre>Pipeline(steps=[(&#x27;tfidf&#x27;, TfidfVectorizer()),\n",
       "                (&#x27;knb_clf&#x27;, KNeighborsClassifier(n_neighbors=10))])</pre></div></div></div><div class=\"sk-serial\"><div class=\"sk-item\"><div class=\"sk-estimator sk-toggleable\"><input class=\"sk-toggleable__control sk-hidden--visually\" id=\"sk-estimator-id-23\" type=\"checkbox\" ><label for=\"sk-estimator-id-23\" class=\"sk-toggleable__label sk-toggleable__label-arrow\">TfidfVectorizer</label><div class=\"sk-toggleable__content\"><pre>TfidfVectorizer()</pre></div></div></div><div class=\"sk-item\"><div class=\"sk-estimator sk-toggleable\"><input class=\"sk-toggleable__control sk-hidden--visually\" id=\"sk-estimator-id-24\" type=\"checkbox\" ><label for=\"sk-estimator-id-24\" class=\"sk-toggleable__label sk-toggleable__label-arrow\">KNeighborsClassifier</label><div class=\"sk-toggleable__content\"><pre>KNeighborsClassifier(n_neighbors=10)</pre></div></div></div></div></div></div></div>"
      ],
      "text/plain": [
       "Pipeline(steps=[('tfidf', TfidfVectorizer()),\n",
       "                ('knb_clf', KNeighborsClassifier(n_neighbors=10))])"
      ]
     },
     "execution_count": 64,
     "metadata": {},
     "output_type": "execute_result"
    }
   ],
   "source": [
    "knn_ppl_clf = Pipeline([\n",
    "    ('tfidf', TfidfVectorizer()),\n",
    "    ('knb_clf', KNeighborsClassifier(n_neighbors=10))])\n",
    "knn_ppl_clf.fit(X_train, y_train)"
   ]
  },
  {
   "cell_type": "code",
   "execution_count": 65,
   "metadata": {},
   "outputs": [
    {
     "name": "stdout",
     "output_type": "stream",
     "text": [
      "              precision    recall  f1-score   support\n",
      "\n",
      "           0       0.80      0.92      0.85       300\n",
      "           1       0.93      0.80      0.86       572\n",
      "           2       0.72      0.82      0.77       224\n",
      "\n",
      "    accuracy                           0.84      1096\n",
      "   macro avg       0.81      0.85      0.83      1096\n",
      "weighted avg       0.85      0.84      0.84      1096\n",
      "\n"
     ]
    }
   ],
   "source": [
    "predicted_knn = knn_ppl_clf.predict(X_test)\n",
    "print(metrics.classification_report(predicted_knn, y_test))"
   ]
  },
  {
   "cell_type": "markdown",
   "metadata": {},
   "source": [
    "### Xgboost"
   ]
  },
  {
   "cell_type": "code",
   "execution_count": 23,
   "metadata": {},
   "outputs": [],
   "source": [
    "import xgboost as xgb"
   ]
  },
  {
   "cell_type": "code",
   "execution_count": 50,
   "metadata": {},
   "outputs": [
    {
     "data": {
      "text/html": [
       "<style>#sk-container-id-6 {color: black;background-color: white;}#sk-container-id-6 pre{padding: 0;}#sk-container-id-6 div.sk-toggleable {background-color: white;}#sk-container-id-6 label.sk-toggleable__label {cursor: pointer;display: block;width: 100%;margin-bottom: 0;padding: 0.3em;box-sizing: border-box;text-align: center;}#sk-container-id-6 label.sk-toggleable__label-arrow:before {content: \"▸\";float: left;margin-right: 0.25em;color: #696969;}#sk-container-id-6 label.sk-toggleable__label-arrow:hover:before {color: black;}#sk-container-id-6 div.sk-estimator:hover label.sk-toggleable__label-arrow:before {color: black;}#sk-container-id-6 div.sk-toggleable__content {max-height: 0;max-width: 0;overflow: hidden;text-align: left;background-color: #f0f8ff;}#sk-container-id-6 div.sk-toggleable__content pre {margin: 0.2em;color: black;border-radius: 0.25em;background-color: #f0f8ff;}#sk-container-id-6 input.sk-toggleable__control:checked~div.sk-toggleable__content {max-height: 200px;max-width: 100%;overflow: auto;}#sk-container-id-6 input.sk-toggleable__control:checked~label.sk-toggleable__label-arrow:before {content: \"▾\";}#sk-container-id-6 div.sk-estimator input.sk-toggleable__control:checked~label.sk-toggleable__label {background-color: #d4ebff;}#sk-container-id-6 div.sk-label input.sk-toggleable__control:checked~label.sk-toggleable__label {background-color: #d4ebff;}#sk-container-id-6 input.sk-hidden--visually {border: 0;clip: rect(1px 1px 1px 1px);clip: rect(1px, 1px, 1px, 1px);height: 1px;margin: -1px;overflow: hidden;padding: 0;position: absolute;width: 1px;}#sk-container-id-6 div.sk-estimator {font-family: monospace;background-color: #f0f8ff;border: 1px dotted black;border-radius: 0.25em;box-sizing: border-box;margin-bottom: 0.5em;}#sk-container-id-6 div.sk-estimator:hover {background-color: #d4ebff;}#sk-container-id-6 div.sk-parallel-item::after {content: \"\";width: 100%;border-bottom: 1px solid gray;flex-grow: 1;}#sk-container-id-6 div.sk-label:hover label.sk-toggleable__label {background-color: #d4ebff;}#sk-container-id-6 div.sk-serial::before {content: \"\";position: absolute;border-left: 1px solid gray;box-sizing: border-box;top: 0;bottom: 0;left: 50%;z-index: 0;}#sk-container-id-6 div.sk-serial {display: flex;flex-direction: column;align-items: center;background-color: white;padding-right: 0.2em;padding-left: 0.2em;position: relative;}#sk-container-id-6 div.sk-item {position: relative;z-index: 1;}#sk-container-id-6 div.sk-parallel {display: flex;align-items: stretch;justify-content: center;background-color: white;position: relative;}#sk-container-id-6 div.sk-item::before, #sk-container-id-6 div.sk-parallel-item::before {content: \"\";position: absolute;border-left: 1px solid gray;box-sizing: border-box;top: 0;bottom: 0;left: 50%;z-index: -1;}#sk-container-id-6 div.sk-parallel-item {display: flex;flex-direction: column;z-index: 1;position: relative;background-color: white;}#sk-container-id-6 div.sk-parallel-item:first-child::after {align-self: flex-end;width: 50%;}#sk-container-id-6 div.sk-parallel-item:last-child::after {align-self: flex-start;width: 50%;}#sk-container-id-6 div.sk-parallel-item:only-child::after {width: 0;}#sk-container-id-6 div.sk-dashed-wrapped {border: 1px dashed gray;margin: 0 0.4em 0.5em 0.4em;box-sizing: border-box;padding-bottom: 0.4em;background-color: white;}#sk-container-id-6 div.sk-label label {font-family: monospace;font-weight: bold;display: inline-block;line-height: 1.2em;}#sk-container-id-6 div.sk-label-container {text-align: center;}#sk-container-id-6 div.sk-container {/* jupyter's `normalize.less` sets `[hidden] { display: none; }` but bootstrap.min.css set `[hidden] { display: none !important; }` so we also need the `!important` here to be able to override the default hidden behavior on the sphinx rendered scikit-learn.org. See: https://github.com/scikit-learn/scikit-learn/issues/21755 */display: inline-block !important;position: relative;}#sk-container-id-6 div.sk-text-repr-fallback {display: none;}</style><div id=\"sk-container-id-6\" class=\"sk-top-container\"><div class=\"sk-text-repr-fallback\"><pre>Pipeline(steps=[(&#x27;tfidf&#x27;, TfidfVectorizer()),\n",
       "                (&#x27;xgb_clf&#x27;,\n",
       "                 XGBClassifier(base_score=0.5, booster=&#x27;gbtree&#x27;, callbacks=None,\n",
       "                               colsample_bylevel=1, colsample_bynode=1,\n",
       "                               colsample_bytree=1, early_stopping_rounds=None,\n",
       "                               enable_categorical=False, eval_metric=None,\n",
       "                               gamma=0, gpu_id=-1, grow_policy=&#x27;depthwise&#x27;,\n",
       "                               importance_type=None, interaction_constraints=&#x27;&#x27;,\n",
       "                               learning_rate=0.3, max_bin=256,\n",
       "                               max_cat_to_onehot=4, max_delta_step=0,\n",
       "                               max_depth=5, max_leaves=0, min_child_weight=1,\n",
       "                               missing=nan, monotone_constraints=&#x27;()&#x27;,\n",
       "                               n_estimators=500, n_jobs=0, num_parallel_tree=1,\n",
       "                               objective=&#x27;multi:softprob&#x27;, predictor=&#x27;auto&#x27;,\n",
       "                               random_state=0, reg_alpha=0, ...))])</pre><b>In a Jupyter environment, please rerun this cell to show the HTML representation or trust the notebook. <br />On GitHub, the HTML representation is unable to render, please try loading this page with nbviewer.org.</b></div><div class=\"sk-container\" hidden><div class=\"sk-item sk-dashed-wrapped\"><div class=\"sk-label-container\"><div class=\"sk-label sk-toggleable\"><input class=\"sk-toggleable__control sk-hidden--visually\" id=\"sk-estimator-id-16\" type=\"checkbox\" ><label for=\"sk-estimator-id-16\" class=\"sk-toggleable__label sk-toggleable__label-arrow\">Pipeline</label><div class=\"sk-toggleable__content\"><pre>Pipeline(steps=[(&#x27;tfidf&#x27;, TfidfVectorizer()),\n",
       "                (&#x27;xgb_clf&#x27;,\n",
       "                 XGBClassifier(base_score=0.5, booster=&#x27;gbtree&#x27;, callbacks=None,\n",
       "                               colsample_bylevel=1, colsample_bynode=1,\n",
       "                               colsample_bytree=1, early_stopping_rounds=None,\n",
       "                               enable_categorical=False, eval_metric=None,\n",
       "                               gamma=0, gpu_id=-1, grow_policy=&#x27;depthwise&#x27;,\n",
       "                               importance_type=None, interaction_constraints=&#x27;&#x27;,\n",
       "                               learning_rate=0.3, max_bin=256,\n",
       "                               max_cat_to_onehot=4, max_delta_step=0,\n",
       "                               max_depth=5, max_leaves=0, min_child_weight=1,\n",
       "                               missing=nan, monotone_constraints=&#x27;()&#x27;,\n",
       "                               n_estimators=500, n_jobs=0, num_parallel_tree=1,\n",
       "                               objective=&#x27;multi:softprob&#x27;, predictor=&#x27;auto&#x27;,\n",
       "                               random_state=0, reg_alpha=0, ...))])</pre></div></div></div><div class=\"sk-serial\"><div class=\"sk-item\"><div class=\"sk-estimator sk-toggleable\"><input class=\"sk-toggleable__control sk-hidden--visually\" id=\"sk-estimator-id-17\" type=\"checkbox\" ><label for=\"sk-estimator-id-17\" class=\"sk-toggleable__label sk-toggleable__label-arrow\">TfidfVectorizer</label><div class=\"sk-toggleable__content\"><pre>TfidfVectorizer()</pre></div></div></div><div class=\"sk-item\"><div class=\"sk-estimator sk-toggleable\"><input class=\"sk-toggleable__control sk-hidden--visually\" id=\"sk-estimator-id-18\" type=\"checkbox\" ><label for=\"sk-estimator-id-18\" class=\"sk-toggleable__label sk-toggleable__label-arrow\">XGBClassifier</label><div class=\"sk-toggleable__content\"><pre>XGBClassifier(base_score=0.5, booster=&#x27;gbtree&#x27;, callbacks=None,\n",
       "              colsample_bylevel=1, colsample_bynode=1, colsample_bytree=1,\n",
       "              early_stopping_rounds=None, enable_categorical=False,\n",
       "              eval_metric=None, gamma=0, gpu_id=-1, grow_policy=&#x27;depthwise&#x27;,\n",
       "              importance_type=None, interaction_constraints=&#x27;&#x27;,\n",
       "              learning_rate=0.3, max_bin=256, max_cat_to_onehot=4,\n",
       "              max_delta_step=0, max_depth=5, max_leaves=0, min_child_weight=1,\n",
       "              missing=nan, monotone_constraints=&#x27;()&#x27;, n_estimators=500,\n",
       "              n_jobs=0, num_parallel_tree=1, objective=&#x27;multi:softprob&#x27;,\n",
       "              predictor=&#x27;auto&#x27;, random_state=0, reg_alpha=0, ...)</pre></div></div></div></div></div></div></div>"
      ],
      "text/plain": [
       "Pipeline(steps=[('tfidf', TfidfVectorizer()),\n",
       "                ('xgb_clf',\n",
       "                 XGBClassifier(base_score=0.5, booster='gbtree', callbacks=None,\n",
       "                               colsample_bylevel=1, colsample_bynode=1,\n",
       "                               colsample_bytree=1, early_stopping_rounds=None,\n",
       "                               enable_categorical=False, eval_metric=None,\n",
       "                               gamma=0, gpu_id=-1, grow_policy='depthwise',\n",
       "                               importance_type=None, interaction_constraints='',\n",
       "                               learning_rate=0.3, max_bin=256,\n",
       "                               max_cat_to_onehot=4, max_delta_step=0,\n",
       "                               max_depth=5, max_leaves=0, min_child_weight=1,\n",
       "                               missing=nan, monotone_constraints='()',\n",
       "                               n_estimators=500, n_jobs=0, num_parallel_tree=1,\n",
       "                               objective='multi:softprob', predictor='auto',\n",
       "                               random_state=0, reg_alpha=0, ...))])"
      ]
     },
     "execution_count": 50,
     "metadata": {},
     "output_type": "execute_result"
    }
   ],
   "source": [
    "xgb_ppl_clf = Pipeline([\n",
    "    ('tfidf', TfidfVectorizer()),\n",
    "    ('xgb_clf', xgb.XGBClassifier(n_estimators = 500, max_depth = 5, learning_rate = 0.3))])\n",
    "xgb_ppl_clf.fit(X_train, y_train)"
   ]
  },
  {
   "cell_type": "code",
   "execution_count": 51,
   "metadata": {},
   "outputs": [
    {
     "name": "stdout",
     "output_type": "stream",
     "text": [
      "              precision    recall  f1-score   support\n",
      "\n",
      "           0       0.85      0.93      0.89       315\n",
      "           1       0.90      0.91      0.91       488\n",
      "           2       0.87      0.76      0.81       293\n",
      "\n",
      "    accuracy                           0.88      1096\n",
      "   macro avg       0.87      0.87      0.87      1096\n",
      "weighted avg       0.88      0.88      0.87      1096\n",
      "\n"
     ]
    }
   ],
   "source": [
    "predicted_xgb = xgb_ppl_clf.predict(X_test)\n",
    "print(metrics.classification_report(predicted_xgb, y_test))"
   ]
  },
  {
   "cell_type": "code",
   "execution_count": 66,
   "metadata": {},
   "outputs": [
    {
     "name": "stdout",
     "output_type": "stream",
     "text": [
      "              precision    recall  f1-score   support\n",
      "\n",
      "           0       0.86      0.93      0.89       323\n",
      "           1       0.91      0.92      0.91       486\n",
      "           2       0.87      0.78      0.82       287\n",
      "\n",
      "    accuracy                           0.89      1096\n",
      "   macro avg       0.88      0.87      0.88      1096\n",
      "weighted avg       0.88      0.89      0.88      1096\n",
      "\n"
     ]
    }
   ],
   "source": [
    "xgb_ppl_clf_2 = Pipeline([\n",
    "    ('tfidf', TfidfVectorizer()),\n",
    "    ('xgb_clf_2', xgb.XGBClassifier(n_estimators = 500, max_depth = 5, learning_rate = 0.01))])\n",
    "xgb_ppl_clf_2.fit(X_train, y_train)\n",
    "\n",
    "predicted_xgb_2 = xgb_ppl_clf_2.predict(X_test)\n",
    "print(metrics.classification_report(predicted_xgb_2, y_test))"
   ]
  },
  {
   "cell_type": "code",
   "execution_count": 68,
   "metadata": {},
   "outputs": [
    {
     "name": "stdout",
     "output_type": "stream",
     "text": [
      "              precision    recall  f1-score   support\n",
      "\n",
      "           0       0.86      0.92      0.89       325\n",
      "           1       0.91      0.91      0.91       491\n",
      "           2       0.84      0.77      0.81       280\n",
      "\n",
      "    accuracy                           0.88      1096\n",
      "   macro avg       0.87      0.87      0.87      1096\n",
      "weighted avg       0.88      0.88      0.88      1096\n",
      "\n"
     ]
    }
   ],
   "source": [
    "xgb_ppl_clf_3 = Pipeline([\n",
    "    ('tfidf', TfidfVectorizer()),\n",
    "    ('xgb_clf_3', xgb.XGBClassifier(n_estimators = 1000, max_depth = 10, learning_rate = 0.05))])\n",
    "xgb_ppl_clf_3.fit(X_train, y_train)\n",
    "\n",
    "predicted_xgb_3 = xgb_ppl_clf_3.predict(X_test)\n",
    "print(metrics.classification_report(predicted_xgb_3, y_test))"
   ]
  },
  {
   "cell_type": "markdown",
   "metadata": {},
   "source": [
    "### RandomForestClassifier"
   ]
  },
  {
   "cell_type": "code",
   "execution_count": 53,
   "metadata": {},
   "outputs": [
    {
     "name": "stderr",
     "output_type": "stream",
     "text": [
      "C:\\Users\\S\\AppData\\Roaming\\Python\\Python38\\site-packages\\sklearn\\ensemble\\_forest.py:427: FutureWarning: `max_features='auto'` has been deprecated in 1.1 and will be removed in 1.3. To keep the past behaviour, explicitly set `max_features='sqrt'` or remove this parameter as it is also the default value for RandomForestClassifiers and ExtraTreesClassifiers.\n",
      "  warn(\n"
     ]
    },
    {
     "data": {
      "text/html": [
       "<style>#sk-container-id-7 {color: black;background-color: white;}#sk-container-id-7 pre{padding: 0;}#sk-container-id-7 div.sk-toggleable {background-color: white;}#sk-container-id-7 label.sk-toggleable__label {cursor: pointer;display: block;width: 100%;margin-bottom: 0;padding: 0.3em;box-sizing: border-box;text-align: center;}#sk-container-id-7 label.sk-toggleable__label-arrow:before {content: \"▸\";float: left;margin-right: 0.25em;color: #696969;}#sk-container-id-7 label.sk-toggleable__label-arrow:hover:before {color: black;}#sk-container-id-7 div.sk-estimator:hover label.sk-toggleable__label-arrow:before {color: black;}#sk-container-id-7 div.sk-toggleable__content {max-height: 0;max-width: 0;overflow: hidden;text-align: left;background-color: #f0f8ff;}#sk-container-id-7 div.sk-toggleable__content pre {margin: 0.2em;color: black;border-radius: 0.25em;background-color: #f0f8ff;}#sk-container-id-7 input.sk-toggleable__control:checked~div.sk-toggleable__content {max-height: 200px;max-width: 100%;overflow: auto;}#sk-container-id-7 input.sk-toggleable__control:checked~label.sk-toggleable__label-arrow:before {content: \"▾\";}#sk-container-id-7 div.sk-estimator input.sk-toggleable__control:checked~label.sk-toggleable__label {background-color: #d4ebff;}#sk-container-id-7 div.sk-label input.sk-toggleable__control:checked~label.sk-toggleable__label {background-color: #d4ebff;}#sk-container-id-7 input.sk-hidden--visually {border: 0;clip: rect(1px 1px 1px 1px);clip: rect(1px, 1px, 1px, 1px);height: 1px;margin: -1px;overflow: hidden;padding: 0;position: absolute;width: 1px;}#sk-container-id-7 div.sk-estimator {font-family: monospace;background-color: #f0f8ff;border: 1px dotted black;border-radius: 0.25em;box-sizing: border-box;margin-bottom: 0.5em;}#sk-container-id-7 div.sk-estimator:hover {background-color: #d4ebff;}#sk-container-id-7 div.sk-parallel-item::after {content: \"\";width: 100%;border-bottom: 1px solid gray;flex-grow: 1;}#sk-container-id-7 div.sk-label:hover label.sk-toggleable__label {background-color: #d4ebff;}#sk-container-id-7 div.sk-serial::before {content: \"\";position: absolute;border-left: 1px solid gray;box-sizing: border-box;top: 0;bottom: 0;left: 50%;z-index: 0;}#sk-container-id-7 div.sk-serial {display: flex;flex-direction: column;align-items: center;background-color: white;padding-right: 0.2em;padding-left: 0.2em;position: relative;}#sk-container-id-7 div.sk-item {position: relative;z-index: 1;}#sk-container-id-7 div.sk-parallel {display: flex;align-items: stretch;justify-content: center;background-color: white;position: relative;}#sk-container-id-7 div.sk-item::before, #sk-container-id-7 div.sk-parallel-item::before {content: \"\";position: absolute;border-left: 1px solid gray;box-sizing: border-box;top: 0;bottom: 0;left: 50%;z-index: -1;}#sk-container-id-7 div.sk-parallel-item {display: flex;flex-direction: column;z-index: 1;position: relative;background-color: white;}#sk-container-id-7 div.sk-parallel-item:first-child::after {align-self: flex-end;width: 50%;}#sk-container-id-7 div.sk-parallel-item:last-child::after {align-self: flex-start;width: 50%;}#sk-container-id-7 div.sk-parallel-item:only-child::after {width: 0;}#sk-container-id-7 div.sk-dashed-wrapped {border: 1px dashed gray;margin: 0 0.4em 0.5em 0.4em;box-sizing: border-box;padding-bottom: 0.4em;background-color: white;}#sk-container-id-7 div.sk-label label {font-family: monospace;font-weight: bold;display: inline-block;line-height: 1.2em;}#sk-container-id-7 div.sk-label-container {text-align: center;}#sk-container-id-7 div.sk-container {/* jupyter's `normalize.less` sets `[hidden] { display: none; }` but bootstrap.min.css set `[hidden] { display: none !important; }` so we also need the `!important` here to be able to override the default hidden behavior on the sphinx rendered scikit-learn.org. See: https://github.com/scikit-learn/scikit-learn/issues/21755 */display: inline-block !important;position: relative;}#sk-container-id-7 div.sk-text-repr-fallback {display: none;}</style><div id=\"sk-container-id-7\" class=\"sk-top-container\"><div class=\"sk-text-repr-fallback\"><pre>Pipeline(steps=[(&#x27;tfidf&#x27;, TfidfVectorizer()),\n",
       "                (&#x27;randomf_clf&#x27;,\n",
       "                 RandomForestClassifier(max_features=&#x27;auto&#x27;,\n",
       "                                        min_samples_split=10, n_estimators=1000,\n",
       "                                        n_jobs=-1, oob_score=True,\n",
       "                                        random_state=1))])</pre><b>In a Jupyter environment, please rerun this cell to show the HTML representation or trust the notebook. <br />On GitHub, the HTML representation is unable to render, please try loading this page with nbviewer.org.</b></div><div class=\"sk-container\" hidden><div class=\"sk-item sk-dashed-wrapped\"><div class=\"sk-label-container\"><div class=\"sk-label sk-toggleable\"><input class=\"sk-toggleable__control sk-hidden--visually\" id=\"sk-estimator-id-19\" type=\"checkbox\" ><label for=\"sk-estimator-id-19\" class=\"sk-toggleable__label sk-toggleable__label-arrow\">Pipeline</label><div class=\"sk-toggleable__content\"><pre>Pipeline(steps=[(&#x27;tfidf&#x27;, TfidfVectorizer()),\n",
       "                (&#x27;randomf_clf&#x27;,\n",
       "                 RandomForestClassifier(max_features=&#x27;auto&#x27;,\n",
       "                                        min_samples_split=10, n_estimators=1000,\n",
       "                                        n_jobs=-1, oob_score=True,\n",
       "                                        random_state=1))])</pre></div></div></div><div class=\"sk-serial\"><div class=\"sk-item\"><div class=\"sk-estimator sk-toggleable\"><input class=\"sk-toggleable__control sk-hidden--visually\" id=\"sk-estimator-id-20\" type=\"checkbox\" ><label for=\"sk-estimator-id-20\" class=\"sk-toggleable__label sk-toggleable__label-arrow\">TfidfVectorizer</label><div class=\"sk-toggleable__content\"><pre>TfidfVectorizer()</pre></div></div></div><div class=\"sk-item\"><div class=\"sk-estimator sk-toggleable\"><input class=\"sk-toggleable__control sk-hidden--visually\" id=\"sk-estimator-id-21\" type=\"checkbox\" ><label for=\"sk-estimator-id-21\" class=\"sk-toggleable__label sk-toggleable__label-arrow\">RandomForestClassifier</label><div class=\"sk-toggleable__content\"><pre>RandomForestClassifier(max_features=&#x27;auto&#x27;, min_samples_split=10,\n",
       "                       n_estimators=1000, n_jobs=-1, oob_score=True,\n",
       "                       random_state=1)</pre></div></div></div></div></div></div></div>"
      ],
      "text/plain": [
       "Pipeline(steps=[('tfidf', TfidfVectorizer()),\n",
       "                ('randomf_clf',\n",
       "                 RandomForestClassifier(max_features='auto',\n",
       "                                        min_samples_split=10, n_estimators=1000,\n",
       "                                        n_jobs=-1, oob_score=True,\n",
       "                                        random_state=1))])"
      ]
     },
     "execution_count": 53,
     "metadata": {},
     "output_type": "execute_result"
    }
   ],
   "source": [
    "from sklearn.ensemble import RandomForestClassifier \n",
    "\n",
    "randomf_ppl_clf = Pipeline([\n",
    "    ('tfidf', TfidfVectorizer()),\n",
    "    ('randomf_clf', RandomForestClassifier(n_estimators=1000, min_samples_split=10, min_samples_leaf=1,\n",
    "           max_features='auto', max_leaf_nodes=None,\n",
    "           oob_score=True, n_jobs=-1, random_state=1))])\n",
    "randomf_ppl_clf.fit(X_train, y_train)\n"
   ]
  },
  {
   "cell_type": "code",
   "execution_count": 54,
   "metadata": {},
   "outputs": [
    {
     "name": "stdout",
     "output_type": "stream",
     "text": [
      "              precision    recall  f1-score   support\n",
      "\n",
      "           0       0.84      0.97      0.90       299\n",
      "           1       0.93      0.87      0.90       527\n",
      "           2       0.85      0.80      0.83       270\n",
      "\n",
      "    accuracy                           0.88      1096\n",
      "   macro avg       0.87      0.88      0.87      1096\n",
      "weighted avg       0.88      0.88      0.88      1096\n",
      "\n"
     ]
    }
   ],
   "source": [
    "predicted_randomf = randomf_ppl_clf.predict(X_test)\n",
    "print(metrics.classification_report(predicted_randomf, y_test))"
   ]
  }
 ],
 "metadata": {
  "kernelspec": {
   "display_name": "Python 3",
   "language": "python",
   "name": "python3"
  },
  "language_info": {
   "codemirror_mode": {
    "name": "ipython",
    "version": 3
   },
   "file_extension": ".py",
   "mimetype": "text/x-python",
   "name": "python",
   "nbconvert_exporter": "python",
   "pygments_lexer": "ipython3",
   "version": "3.8.3"
  }
 },
 "nbformat": 4,
 "nbformat_minor": 4
}
